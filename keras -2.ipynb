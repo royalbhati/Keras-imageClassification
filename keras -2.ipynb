{
 "cells": [
  {
   "cell_type": "code",
   "execution_count": 1,
   "metadata": {},
   "outputs": [
    {
     "name": "stderr",
     "output_type": "stream",
     "text": [
      "Using TensorFlow backend.\n"
     ]
    }
   ],
   "source": [
    "from keras.preprocessing.image import ImageDataGenerator\n",
    "from keras.optimizers import Adam\n",
    "from sklearn.model_selection import train_test_split\n",
    "from keras.preprocessing.image import img_to_array\n",
    "from keras.utils import to_categorical\n",
    "# from imutils import paths\n",
    "import matplotlib.pyplot as plt\n",
    "import numpy as np\n",
    "import random\n",
    "import cv2\n",
    "import os\n",
    "%matplotlib inline"
   ]
  },
  {
   "cell_type": "code",
   "execution_count": 4,
   "metadata": {},
   "outputs": [
    {
     "name": "stdout",
     "output_type": "stream",
     "text": [
      "/home/royal/Downloads\n"
     ]
    }
   ],
   "source": [
    "cd Conv"
   ]
  },
  {
   "cell_type": "code",
   "execution_count": 64,
   "metadata": {},
   "outputs": [
    {
     "name": "stdout",
     "output_type": "stream",
     "text": [
      "Found 8323 images belonging to 3 classes.\n"
     ]
    }
   ],
   "source": [
    "train_i=ImageDataGenerator().flow_from_directory(directory='dataset/train',target_size=(28,28),batch_size=10,classes=['cats','dogs','selena'])"
   ]
  },
  {
   "cell_type": "code",
   "execution_count": 65,
   "metadata": {},
   "outputs": [
    {
     "name": "stdout",
     "output_type": "stream",
     "text": [
      "Found 2058 images belonging to 3 classes.\n"
     ]
    }
   ],
   "source": [
    "test_i=ImageDataGenerator().flow_from_directory(directory='dataset/test',target_size=(28,28),batch_size=10,classes=['cats','dogs','selena'])"
   ]
  },
  {
   "cell_type": "code",
   "execution_count": 55,
   "metadata": {
    "collapsed": true
   },
   "outputs": [],
   "source": [
    "imgs,labels = next(train_i) "
   ]
  },
  {
   "cell_type": "code",
   "execution_count": 128,
   "metadata": {
    "collapsed": true
   },
   "outputs": [],
   "source": [
    "from keras.models import Sequential\n",
    "from keras.layers import Conv2D\n",
    "from keras.layers import MaxPooling2D\n",
    "from keras.layers import Flatten\n",
    "from keras.layers import Dense\n",
    "from keras.layers.core import Activation\n",
    "\n",
    "clf= Sequential()\n",
    "\n",
    "clf.add(Conv2D(32, (5, 5), input_shape = (224,224, 3), activation = 'relu'))\n",
    "\n",
    "clf.add(MaxPooling2D(pool_size = (2, 2)))\n",
    "\n",
    "clf.add(Conv2D(32, (3, 3), activation = 'relu'))\n",
    "clf.add(MaxPooling2D(pool_size = (2, 2)))\n",
    "\n",
    "clf.add(Conv2D(64, (3, 3), activation = 'relu'))\n",
    "clf.add(MaxPooling2D(pool_size = (2, 2)))\n",
    "\n",
    "clf.add(Flatten())\n",
    "clf.add(Dense(500))\n",
    "clf.add(Activation(\"relu\"))\n",
    "\n",
    "clf.add(Dense(3))\n",
    "clf.add(Activation(\"sigmoid\"))\n",
    "clf.compile(optimizer = 'adam', loss = 'binary_crossentropy', metrics = ['accuracy'])"
   ]
  },
  {
   "cell_type": "code",
   "execution_count": 129,
   "metadata": {
    "collapsed": true
   },
   "outputs": [],
   "source": [
    "aug = ImageDataGenerator(rotation_range=30, width_shift_range=0.1,\n",
    "    height_shift_range=0.1, shear_range=0.2, zoom_range=0.2,\n",
    "    horizontal_flip=True, fill_mode=\"nearest\")\n",
    "\n",
    "clf.compile(loss=\"binary_crossentropy\", optimizer='adam',\n",
    "    metrics=[\"accuracy\"])\n",
    "\n",
    "# clf.fit_generator(train_i,validation_data=test_i, steps_per_epoch=8000//20,\n",
    "# epochs=10,verbose=1)\n"
   ]
  },
  {
   "cell_type": "code",
   "execution_count": 130,
   "metadata": {
    "collapsed": true
   },
   "outputs": [],
   "source": [
    "train_datagen = ImageDataGenerator(\n",
    "        rescale=1./255,\n",
    "        shear_range=0.2,\n",
    "        zoom_range=0.2,\n",
    "        horizontal_flip=True)"
   ]
  },
  {
   "cell_type": "code",
   "execution_count": 131,
   "metadata": {
    "collapsed": true
   },
   "outputs": [],
   "source": [
    "test_datagen = ImageDataGenerator(rescale=1./255)"
   ]
  },
  {
   "cell_type": "code",
   "execution_count": 135,
   "metadata": {},
   "outputs": [
    {
     "name": "stdout",
     "output_type": "stream",
     "text": [
      "Found 8323 images belonging to 3 classes.\n"
     ]
    }
   ],
   "source": [
    "train_generator = train_datagen.flow_from_directory(\n",
    "        'dataset/train',  # this is the target directory\n",
    "        target_size=(224,224),  # all images will be resized to 150x150\n",
    "        batch_size=10,\n",
    "        class_mode='categorical')"
   ]
  },
  {
   "cell_type": "code",
   "execution_count": 74,
   "metadata": {},
   "outputs": [
    {
     "name": "stdout",
     "output_type": "stream",
     "text": [
      "Found 2058 images belonging to 3 classes.\n"
     ]
    }
   ],
   "source": [
    "validation_generator = test_datagen.flow_from_directory(\n",
    "        'dataset/test',\n",
    "        target_size=(28,28),\n",
    "        batch_size=10,\n",
    "        class_mode='categorical')"
   ]
  },
  {
   "cell_type": "code",
   "execution_count": 76,
   "metadata": {},
   "outputs": [
    {
     "name": "stdout",
     "output_type": "stream",
     "text": [
      "Epoch 1/10\n",
      "200/200 [==============================] - 15s 73ms/step - loss: 0.5259 - acc: 0.6548 - val_loss: 0.5018 - val_acc: 0.6517\n",
      "Epoch 2/10\n",
      "200/200 [==============================] - 14s 70ms/step - loss: 0.5158 - acc: 0.6670 - val_loss: 0.4959 - val_acc: 0.6675\n",
      "Epoch 3/10\n",
      "200/200 [==============================] - 14s 70ms/step - loss: 0.5142 - acc: 0.6695 - val_loss: 0.4975 - val_acc: 0.6675\n",
      "Epoch 4/10\n",
      "200/200 [==============================] - 14s 70ms/step - loss: 0.5144 - acc: 0.6735 - val_loss: 0.4960 - val_acc: 0.6750\n",
      "Epoch 5/10\n",
      "200/200 [==============================] - 14s 72ms/step - loss: 0.5156 - acc: 0.6681 - val_loss: 0.4937 - val_acc: 0.6821\n",
      "Epoch 6/10\n",
      "200/200 [==============================] - 15s 74ms/step - loss: 0.5084 - acc: 0.6775 - val_loss: 0.4953 - val_acc: 0.6688\n",
      "Epoch 7/10\n",
      "200/200 [==============================] - 15s 77ms/step - loss: 0.5092 - acc: 0.6810 - val_loss: 0.4821 - val_acc: 0.7250\n",
      "Epoch 8/10\n",
      "200/200 [==============================] - 15s 73ms/step - loss: 0.5105 - acc: 0.7082 - val_loss: 0.4705 - val_acc: 0.7471\n",
      "Epoch 9/10\n",
      "200/200 [==============================] - 15s 75ms/step - loss: 0.5053 - acc: 0.7047 - val_loss: 0.4724 - val_acc: 0.7421\n",
      "Epoch 10/10\n",
      "200/200 [==============================] - 17s 87ms/step - loss: 0.4954 - acc: 0.7214 - val_loss: 0.4757 - val_acc: 0.7458\n"
     ]
    },
    {
     "data": {
      "text/plain": [
       "<keras.callbacks.History at 0x7fdbe96acba8>"
      ]
     },
     "execution_count": 76,
     "metadata": {},
     "output_type": "execute_result"
    }
   ],
   "source": [
    "clf.fit_generator(\n",
    "        train_generator,\n",
    "        steps_per_epoch=4000 // 10,\n",
    "        epochs=10,\n",
    "        validation_data=validation_generator,\n",
    "        validation_steps=800 // 10)"
   ]
  },
  {
   "cell_type": "code",
   "execution_count": 10,
   "metadata": {},
   "outputs": [
    {
     "name": "stdout",
     "output_type": "stream",
     "text": [
      "/home/royal/Downloads/Convolutional_Neural_Networks/Convolutional_Neural_Networks/dataset/single_prediction\n"
     ]
    }
   ],
   "source": [
    "cd dataset/single_prediction/"
   ]
  },
  {
   "cell_type": "code",
   "execution_count": null,
   "metadata": {},
   "outputs": [],
   "source": []
  },
  {
   "cell_type": "code",
   "execution_count": 11,
   "metadata": {},
   "outputs": [
    {
     "name": "stdout",
     "output_type": "stream",
     "text": [
      "\u001b[0m\u001b[01;35mca.jpg\u001b[0m  \u001b[01;35mcat.jpg\u001b[0m  \u001b[01;35md.jpg\u001b[0m  \u001b[01;35mdogg.jpg\u001b[0m  \u001b[01;35mr.jpg\u001b[0m  \u001b[01;35mrr.jpg\u001b[0m  \u001b[01;35msel.jpg\u001b[0m\r\n"
     ]
    }
   ],
   "source": [
    "ls"
   ]
  },
  {
   "cell_type": "code",
   "execution_count": 12,
   "metadata": {},
   "outputs": [],
   "source": [
    "from keras.preprocessing import image"
   ]
  },
  {
   "cell_type": "code",
   "execution_count": 13,
   "metadata": {},
   "outputs": [],
   "source": [
    "img=image.load_img('sel.jpg', target_size=(220,220))\n"
   ]
  },
  {
   "cell_type": "code",
   "execution_count": 14,
   "metadata": {},
   "outputs": [
    {
     "data": {
      "text/plain": [
       "<matplotlib.image.AxesImage at 0x7ff0385b8668>"
      ]
     },
     "execution_count": 14,
     "metadata": {},
     "output_type": "execute_result"
    },
    {
     "data": {
      "image/png": "[encoded data removed]",
      "text/plain": [
       "<Figure size 432x288 with 1 Axes>"
      ]
     },
     "metadata": {},
     "output_type": "display_data"
    }
   ],
   "source": [
    "plt.imshow(img)"
   ]
  },
  {
   "cell_type": "code",
   "execution_count": 123,
   "metadata": {
    "collapsed": true
   },
   "outputs": [],
   "source": [
    "x = image.img_to_array(img)\n",
    "x = x.astype(\"float\") / 255.0\n",
    "x = np.expand_dims(x, axis=0)"
   ]
  },
  {
   "cell_type": "code",
   "execution_count": 124,
   "metadata": {},
   "outputs": [
    {
     "data": {
      "text/plain": [
       "array([0.32679695, 0.57362443, 0.1248962 ], dtype=float32)"
      ]
     },
     "execution_count": 124,
     "metadata": {},
     "output_type": "execute_result"
    }
   ],
   "source": [
    "clf.predict(x)[0]\n"
   ]
  },
  {
   "cell_type": "code",
   "execution_count": null,
   "metadata": {},
   "outputs": [],
   "source": [
    "clf.predict(x)[0]\n"
   ]
  },
  {
   "cell_type": "code",
   "execution_count": 126,
   "metadata": {
    "collapsed": true
   },
   "outputs": [],
   "source": [
    "if ((cat>dog) and (cat>selena)):\n",
    "    label='cat'\n",
    "    proba=cat*100\n",
    "elif ((dog>cat) and (dog>selena)):\n",
    "    label='dog'\n",
    "    proba=dog*100\n",
    "else:\n",
    "    label='selena'\n",
    "    proba=selena*100    "
   ]
  },
  {
   "cell_type": "code",
   "execution_count": 127,
   "metadata": {},
   "outputs": [
    {
     "data": {
      "text/plain": [
       "('dog', 57.36244320869446)"
      ]
     },
     "execution_count": 127,
     "metadata": {},
     "output_type": "execute_result"
    }
   ],
   "source": [
    "label,proba"
   ]
  },
  {
   "cell_type": "code",
   "execution_count": 112,
   "metadata": {
    "collapsed": true
   },
   "outputs": [],
   "source": [
    "text=label+ ' ' +str(proba)[:5]"
   ]
  },
  {
   "cell_type": "code",
   "execution_count": 115,
   "metadata": {
    "scrolled": true
   },
   "outputs": [
    {
     "data": {
      "text/plain": [
       "array([[[[0.9372549 , 0.9372549 , 0.9372549 ],\n",
       "         [0.9372549 , 0.9372549 , 0.9372549 ],\n",
       "         [0.94117647, 0.94117647, 0.94117647],\n",
       "         ...,\n",
       "         [0.77254902, 0.58823529, 0.50980392],\n",
       "         [0.96078431, 0.96078431, 0.96078431],\n",
       "         [0.96078431, 0.96078431, 0.96078431]],\n",
       "\n",
       "        [[0.9372549 , 0.9372549 , 0.9372549 ],\n",
       "         [0.9372549 , 0.9372549 , 0.9372549 ],\n",
       "         [0.9372549 , 0.9372549 , 0.9372549 ],\n",
       "         ...,\n",
       "         [0.89411765, 0.67843137, 0.56078431],\n",
       "         [0.95686275, 0.95686275, 0.96470588],\n",
       "         [0.95686275, 0.95686275, 0.95686275]],\n",
       "\n",
       "        [[0.93333333, 0.93333333, 0.93333333],\n",
       "         [0.93333333, 0.93333333, 0.93333333],\n",
       "         [0.9372549 , 0.9372549 , 0.9372549 ],\n",
       "         ...,\n",
       "         [0.90588235, 0.67058824, 0.62745098],\n",
       "         [0.95686275, 0.95686275, 0.95686275],\n",
       "         [0.95686275, 0.95686275, 0.96470588]],\n",
       "\n",
       "        ...,\n",
       "\n",
       "        [[0.89019608, 0.78431373, 0.70980392],\n",
       "         [0.38039216, 0.29803922, 0.27843137],\n",
       "         [0.2627451 , 0.22352941, 0.22745098],\n",
       "         ...,\n",
       "         [0.54117647, 0.45098039, 0.41960784],\n",
       "         [0.9372549 , 0.83921569, 0.76078431],\n",
       "         [0.91372549, 0.80784314, 0.74117647]],\n",
       "\n",
       "        [[0.92156863, 0.84313725, 0.8       ],\n",
       "         [0.81568627, 0.71764706, 0.69803922],\n",
       "         [0.27843137, 0.20784314, 0.16862745],\n",
       "         ...,\n",
       "         [0.56078431, 0.46666667, 0.41960784],\n",
       "         [0.90980392, 0.80784314, 0.74117647],\n",
       "         [0.91372549, 0.83137255, 0.76470588]],\n",
       "\n",
       "        [[0.98823529, 0.91372549, 0.88627451],\n",
       "         [0.90196078, 0.79215686, 0.74509804],\n",
       "         [0.96078431, 0.89411765, 0.86666667],\n",
       "         ...,\n",
       "         [0.61176471, 0.49019608, 0.41960784],\n",
       "         [0.71372549, 0.62745098, 0.57254902],\n",
       "         [0.92156863, 0.81176471, 0.7254902 ]]]])"
      ]
     },
     "execution_count": 115,
     "metadata": {},
     "output_type": "execute_result"
    }
   ],
   "source": [
    "cv2.putText(x, text, (10, 25), cv2.FONT_HERSHEY_SIMPLEX,0.7, (255, 0, 0), 2)\n"
   ]
  },
  {
   "cell_type": "code",
   "execution_count": null,
   "metadata": {
    "collapsed": true
   },
   "outputs": [],
   "source": [
    "\n"
   ]
  },
  {
   "cell_type": "code",
   "execution_count": null,
   "metadata": {
    "collapsed": true
   },
   "outputs": [],
   "source": []
  },
  {
   "cell_type": "code",
   "execution_count": null,
   "metadata": {
    "collapsed": true
   },
   "outputs": [],
   "source": []
  }
 ],
 "metadata": {
  "kernelspec": {
   "display_name": "Python 3",
   "language": "python",
   "name": "python3"
  },
  "language_info": {
   "codemirror_mode": {
    "name": "ipython",
    "version": 3
   },
   "file_extension": ".py",
   "mimetype": "text/x-python",
   "name": "python",
   "nbconvert_exporter": "python",
   "pygments_lexer": "ipython3",
   "version": "3.6.4"
  }
 },
 "nbformat": 4,
 "nbformat_minor": 2
}
